{
 "cells": [
  {
   "cell_type": "code",
   "execution_count": 73,
   "metadata": {},
   "outputs": [
    {
     "name": "stderr",
     "output_type": "stream",
     "text": [
      "c:\\Users\\sayba\\anaconda3\\lib\\site-packages\\ipykernel_launcher.py:37: VisibleDeprecationWarning: Creating an ndarray from ragged nested sequences (which is a list-or-tuple of lists-or-tuples-or ndarrays with different lengths or shapes) is deprecated. If you meant to do this, you must specify 'dtype=object' when creating the ndarray\n",
      "c:\\Users\\sayba\\anaconda3\\lib\\site-packages\\ipykernel_launcher.py:38: VisibleDeprecationWarning: Creating an ndarray from ragged nested sequences (which is a list-or-tuple of lists-or-tuples-or ndarrays with different lengths or shapes) is deprecated. If you meant to do this, you must specify 'dtype=object' when creating the ndarray\n",
      "c:\\Users\\sayba\\anaconda3\\lib\\site-packages\\ipykernel_launcher.py:40: VisibleDeprecationWarning: Creating an ndarray from ragged nested sequences (which is a list-or-tuple of lists-or-tuples-or ndarrays with different lengths or shapes) is deprecated. If you meant to do this, you must specify 'dtype=object' when creating the ndarray\n",
      "c:\\Users\\sayba\\anaconda3\\lib\\site-packages\\ipykernel_launcher.py:41: VisibleDeprecationWarning: Creating an ndarray from ragged nested sequences (which is a list-or-tuple of lists-or-tuples-or ndarrays with different lengths or shapes) is deprecated. If you meant to do this, you must specify 'dtype=object' when creating the ndarray\n"
     ]
    }
   ],
   "source": [
    "\n",
    "#1.  Read in data, flatten images, separate train (80%) and test (20%), generate labels\n",
    "#2.  Find Covariance matrix of train data = AA_t\n",
    "#3.  Do eigendecomposition of Covariance matrix\n",
    "#4.  find eigenvectors that are responsible for 90% of the variance\n",
    "#5.  \n",
    "\n",
    "import cv2\n",
    "import numpy as np\n",
    "import matplotlib.pyplot as plt\n",
    "import os\n",
    "import glob\n",
    "import re\n",
    "\n",
    "X = []\n",
    "y = []\n",
    "\n",
    "\n",
    "for f in glob.iglob('data/**/**'):\n",
    "    X.append(np.array(cv2.imread(f, cv2.IMREAD_GRAYSCALE)).flatten().tolist())\n",
    "    index = int(f.split(\"\\\\\")[-2].split(\"s\")[1])\n",
    "    y.append(index)\n",
    "\n",
    "\n",
    "data_set = [(X[i], y[i]) for i in range(len(y))]\n",
    "\n",
    "data_set.sort(key= lambda x: x[1])\n",
    "\n",
    "train = []\n",
    "test = []\n",
    "\n",
    "for i, item in enumerate(data_set):\n",
    "    if i % 10 > 7:\n",
    "        test.append(item)\n",
    "    else:\n",
    "        train.append(item)\n",
    "\n",
    "train_X = np.array([[X[0], X[1]] for X in train])[:, 0]\n",
    "train_y = np.array([[X[0], X[1]] for X in train])[:, 1]\n",
    "\n",
    "test_X = np.array([[X[0], X[1]] for X in test])[:, 0]\n",
    "test_y = np.array([[X[0], X[1]] for X in test])[:, 1]\n",
    "\n",
    "#Cov matrix of train data\n",
    "\n",
    "# cov_mat = train_X.T @ train_X\n"
   ]
  },
  {
   "cell_type": "code",
   "execution_count": 76,
   "metadata": {},
   "outputs": [],
   "source": [
    "g = np.zeros((3,3))"
   ]
  },
  {
   "cell_type": "code",
   "execution_count": 77,
   "metadata": {},
   "outputs": [
    {
     "data": {
      "text/plain": [
       "array([[0., 0., 0.],\n",
       "       [0., 0., 0.],\n",
       "       [0., 0., 0.]])"
      ]
     },
     "execution_count": 77,
     "metadata": {},
     "output_type": "execute_result"
    }
   ],
   "source": [
    "g"
   ]
  },
  {
   "cell_type": "code",
   "execution_count": null,
   "metadata": {},
   "outputs": [],
   "source": []
  }
 ],
 "metadata": {
  "kernelspec": {
   "display_name": "base",
   "language": "python",
   "name": "python3"
  },
  "language_info": {
   "codemirror_mode": {
    "name": "ipython",
    "version": 3
   },
   "file_extension": ".py",
   "mimetype": "text/x-python",
   "name": "python",
   "nbconvert_exporter": "python",
   "pygments_lexer": "ipython3",
   "version": "3.7.6"
  },
  "orig_nbformat": 4,
  "vscode": {
   "interpreter": {
    "hash": "d6e3f6dfa8de2f738b5cc4798f4d3bd9db1ef5e491b713e7bacd9920dc98c05e"
   }
  }
 },
 "nbformat": 4,
 "nbformat_minor": 2
}
